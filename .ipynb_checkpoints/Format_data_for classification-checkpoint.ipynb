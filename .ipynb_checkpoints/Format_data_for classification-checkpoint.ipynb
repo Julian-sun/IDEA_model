{
 "cells": [
  {
   "cell_type": "code",
   "execution_count": 1,
   "id": "93990767-a024-4bfa-956b-028ce12e56c2",
   "metadata": {},
   "outputs": [],
   "source": [
    "import numpy as np\n",
    "import pandas as pd\n",
    "import matplotlib.pyplot as plt\n",
    "import pyarrow as pa\n",
    "import pyarrow.parquet as pq\n",
    "import statsmodels.api as sm"
   ]
  },
  {
   "cell_type": "markdown",
   "id": "51b965ad-ee11-4df7-82a3-0d2f42591b5f",
   "metadata": {},
   "source": [
    "# Load data"
   ]
  },
  {
   "cell_type": "code",
   "execution_count": 2,
   "id": "bf27960e-5922-4aa2-86d0-d6f64aa72ca2",
   "metadata": {},
   "outputs": [],
   "source": [
    "df = pd.read_parquet('/Users/julianeoliveira/Documents/Data/aesop_2025_07_11_mun_new.parquet')\n",
    "\n",
    "dta = pd.read_csv('/opt/storage/refined/aesop/visualization/Mobility/union_paths.csv')\n",
    "\n",
    "hubs = pd.read_csv('/opt/storage/raw/aesop/visualization/files_genomic_sample/lists_of_hubs.csv')\n",
    "hubs = hubs[['Nome_UF', 'co_ibge', 'Nome_Município', 'hub_ind_proxi',\n",
    "       'hub_ind_intermed', 'hub_inter']]\n",
    "\n",
    "# Read the Adjacent matrix\n",
    "link0 = '/opt/storage/raw/aesop/visualization/files_genomic_sample/adjacency_matrix_correct.parquet'\n",
    "\n",
    "matrix = pd.read_parquet(link0, engine='pyarrow')\n"
   ]
  },
  {
   "cell_type": "code",
   "execution_count": null,
   "id": "aa39d4fe-db53-4fad-a81d-21ce79a41aff",
   "metadata": {},
   "outputs": [],
   "source": [
    "aesop_mun_new = max(mun_new, key=lambda x: x.stat().st_ctime)\n",
    "\n",
    "df = pd.read_parquet(aesop_mun_new)\n",
    "\n",
    "print('inicdiano: ', aesop_mun_new)"
   ]
  },
  {
   "cell_type": "markdown",
   "id": "a8efa2c6-f6cf-4768-a99f-ae036e808ea3",
   "metadata": {},
   "source": [
    "# Select variables"
   ]
  },
  {
   "cell_type": "code",
   "execution_count": 3,
   "id": "c9378e0a-28dd-42ed-ba24-ed1cec5bea1d",
   "metadata": {},
   "outputs": [],
   "source": [
    "lst = ['co_uf',\n",
    "       'nm_uf',\n",
    "       'sigla_uf',\n",
    "       'co_ibge',\n",
    "       'co_ibge7',\n",
    "       'nm_municipio',\n",
    "       'epiyear',\n",
    "       'epiweek',\n",
    "       'year_week',\n",
    "       'epidemi_cal_start',\n",
    "       'epidemi_cal_end',\n",
    "       'year_week_ts',\n",
    "       'sinal_aesop_ivas',\n",
    "       'sinal_otc_ivas',\n",
    "       'sinal_ens_ivas',\n",
    "       'perc_missing',\n",
    "       'perc_completude',\n",
    "       'diff_2w',\n",
    "       'diff_3w',\n",
    "       'sum_miss',\n",
    "       'completude',\n",
    "       'tempestividade',\n",
    "       'dqi',\n",
    "       'prob_gro_trend_ivas',\n",
    "       'alerta_vizinho',\n",
    "       'sinais_vizinhos'\n",
    "       ]"
   ]
  },
  {
   "cell_type": "code",
   "execution_count": 5,
   "id": "d96239f6-05b4-4477-a252-1a1148a8bcf7",
   "metadata": {},
   "outputs": [],
   "source": [
    "data = df[lst]"
   ]
  },
  {
   "cell_type": "markdown",
   "id": "78c738af-5927-4e05-a7bb-2a2a7fd74d4a",
   "metadata": {},
   "source": [
    "# Add number of neigbour cities"
   ]
  },
  {
   "cell_type": "markdown",
   "id": "782aec66-727e-4257-91f9-a4bc9b33a285",
   "metadata": {},
   "source": [
    "# Add, for each week, the total mobility coverage a municipality cover from the cities with a warning"
   ]
  },
  {
   "cell_type": "code",
   "execution_count": null,
   "id": "2b84cd93-bf89-4026-bdf6-4e42a7e0d769",
   "metadata": {},
   "outputs": [],
   "source": [
    "\n",
    "\n",
    "link_muni_vertice = pd.DataFrame(matrix.columns, columns=['muni'])\n",
    "\n",
    "df_np = matrix.to_numpy()\n",
    "\n",
    "def get_mname(n):\n",
    "    \n",
    "    m = link_muni_vertice.iloc[n]['muni']\n",
    "    set_muni = muni[muni['Código Município Completo'] == m].reset_index()\n",
    "    return [set_muni.iloc[0]['Nome_Município'],set_muni.iloc[0]['Nome_UF'],m]\n",
    "   \n",
    "def get_mnumber(name):\n",
    "    muni[muni['Nome_Município'] == name]\n",
    "    \n",
    "    co_mu = muni[muni['Nome_Município'] == name].reset_index()['Código Município Completo'][0]\n",
    "    muni_number = link_muni_vertice[link_muni_vertice['muni'] == co_mu]['muni'].index.tolist()[0]\n",
    "    return [muni_number, co_mu]\n",
    "\n",
    "def col_name(dtf,col):\n",
    "    lst = []\n",
    "    for value in col:\n",
    "        muni_name = get_mname(value)[0]\n",
    "        uf_muni = get_mname(value)[1]\n",
    "        cod_ibge_muni = get_mname(value)[2]\n",
    "    \n",
    "        lst.append([muni_name,uf_muni,cod_ibge_muni])\n",
    "    \n",
    "    dta = pd.DataFrame(lst, columns=['muni_name','uf_muni','cod_ibge_muni'])\n",
    "    \n",
    "    dtf = dtf.assign(muni_name = dta.muni_name)\n",
    "    dtf = dtf.assign(uf_muni = dta.uf_muni)\n",
    "    dtf = dtf.assign(cod_ibge_muni = dta.cod_ibge_muni)\n",
    "    \n",
    "    return dtf\n",
    "\n",
    "dta = dta[['ori_muni_name','ori_uf_name', 'ori_co_ibge', \n",
    "           'des_muni_name', 'des_uf_name','des_co_ibge', \n",
    "           'path_correct', 'value','muni_1', 'muni_2', 'muni_3','ones']]\n",
    "\n",
    "# # List ade municípios com sinal a 3 semanas atrás\n",
    "\n",
    "# In[7]:\n",
    "\n",
    "df['year_week_mask'] = df.apply(lambda x: f'{(epiweeks.Week(x.epiyear, x.epiweek) -2).year}-{(epiweeks.Week(x.epiyear, x.epiweek) -2).week:02d}' , axis=1)\n",
    "for year_week_mask in reversed(df[df.year_week.str.startswith(('2024', '2025'))].year_week_mask.unique()):\n",
    "\n",
    "    year_week = df[df.year_week_mask == year_week_mask].year_week.max()\n",
    "\n",
    "    muni_with_warning = df[\n",
    "        (df.year_week == year_week_mask) &\n",
    "        (df.sinal_ens_ivas == 1)\n",
    "    ][['co_uf','nm_uf','co_ibge', 'co_ibge7','nm_municipio', 'epiyear', 'epiweek']]\n",
    "\n",
    "\n",
    "    lst = []\n",
    "    print(year_week, year_week_mask)\n",
    "\n",
    "    for value in muni_with_warning.co_ibge7.astype(int).to_list():\n",
    "        \n",
    "        set_muni = dta[dta.ori_co_ibge == value]\n",
    "        \n",
    "        lst.append(set_muni)\n",
    "\n",
    "    dta_cover1 = pd.concat(lst)\n",
    "\n",
    "\n",
    "    # # Save origin and destination\n",
    "\n",
    "    # In[12]:\n",
    "\n",
    "\n",
    "    ori_des_muni_warning = dta_cover1.groupby(\n",
    "        ['ori_muni_name','ori_uf_name','ori_co_ibge','muni_1']\n",
    "    )['ones'].sum().reset_index()\n",
    "\n",
    "    ori_des_muni_warning = col_name(ori_des_muni_warning, ori_des_muni_warning.muni_1)\n",
    "\n",
    "    ori_des_muni_warning = ori_des_muni_warning.assign(\n",
    "        per=ori_des_muni_warning.ones*100/sum(ori_des_muni_warning.ones)\n",
    "    )\n",
    "\n",
    "    ori_des_muni_warning.to_csv(\n",
    "        f'/opt/storage/refined/aesop/visualization/ori_des_muni_warning_{year_week}.csv'\n",
    "    )\n"
   ]
  },
  {
   "cell_type": "code",
   "execution_count": null,
   "id": "9ba29522-8d7a-4590-bb10-263a6e3a5947",
   "metadata": {},
   "outputs": [],
   "source": []
  },
  {
   "cell_type": "code",
   "execution_count": null,
   "id": "cf04305b-6c9e-47d3-a5d3-dcb9f6ce7bca",
   "metadata": {},
   "outputs": [],
   "source": []
  },
  {
   "cell_type": "code",
   "execution_count": null,
   "id": "d035d268-e7e4-4e5e-8cbf-836881cc10a9",
   "metadata": {},
   "outputs": [],
   "source": []
  },
  {
   "cell_type": "code",
   "execution_count": null,
   "id": "9596063e-80ec-47c0-b053-90f991100359",
   "metadata": {},
   "outputs": [],
   "source": []
  },
  {
   "cell_type": "markdown",
   "id": "1fb3e124-f365-4b59-8161-744a1d5a8c58",
   "metadata": {},
   "source": [
    "# Add IBP variable"
   ]
  },
  {
   "cell_type": "code",
   "execution_count": null,
   "id": "f2b41533-3f6e-4b30-bf29-fb1f4c4ed496",
   "metadata": {},
   "outputs": [],
   "source": []
  }
 ],
 "metadata": {
  "kernelspec": {
   "display_name": "Python [conda env:base] *",
   "language": "python",
   "name": "conda-base-py"
  },
  "language_info": {
   "codemirror_mode": {
    "name": "ipython",
    "version": 3
   },
   "file_extension": ".py",
   "mimetype": "text/x-python",
   "name": "python",
   "nbconvert_exporter": "python",
   "pygments_lexer": "ipython3",
   "version": "3.13.5"
  }
 },
 "nbformat": 4,
 "nbformat_minor": 5
}
