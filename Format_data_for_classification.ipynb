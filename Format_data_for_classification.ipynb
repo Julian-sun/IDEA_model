{
 "cells": [
  {
   "cell_type": "code",
   "execution_count": 12,
   "id": "93990767-a024-4bfa-956b-028ce12e56c2",
   "metadata": {},
   "outputs": [],
   "source": [
    "import numpy as np\n",
    "import pandas as pd\n",
    "import matplotlib.pyplot as plt\n",
    "import pyarrow as pa\n",
    "import pyarrow.parquet as pq\n",
    "import statsmodels.api as sm\n",
    "\n",
    "from pathlib import Path\n",
    "#import os\n",
    "#import zipfile\n",
    "\n",
    "from matplotlib_venn import venn2  \n",
    "\n",
    "from sklearn.preprocessing import MinMaxScaler\n",
    "\n",
    "import epiweeks"
   ]
  },
  {
   "cell_type": "markdown",
   "id": "51b965ad-ee11-4df7-82a3-0d2f42591b5f",
   "metadata": {},
   "source": [
    "# Load data"
   ]
  },
  {
   "cell_type": "code",
   "execution_count": 97,
   "id": "bf27960e-5922-4aa2-86d0-d6f64aa72ca2",
   "metadata": {},
   "outputs": [],
   "source": [
    "muni = pd.read_csv('/opt/storage/raw/aesop/visualization/DTB_BRASIL_MUNICIPIO.csv',sep=';')\n",
    "\n",
    "muni = muni[['UF', 'Nome_UF', 'Mesorregião Geográfica', 'Nome_Mesorregião',\n",
    "       'Microrregião Geográfica', 'Nome_Microrregião', 'Município',\n",
    "       'Código Município Completo', 'Nome_Município']]\n",
    "\n",
    "muni = muni.assign(co_ibge6 = muni['Código Município Completo'].astype(str).str[0:6])\n",
    "\n",
    "muni.co_ibge6 = muni.co_ibge6.astype(int)\n",
    "\n",
    "dta = pd.read_csv('/opt/storage/refined/aesop/visualization/Mobility/union_paths.csv')\n",
    "\n",
    "hubs = pd.read_csv('/opt/storage/raw/aesop/visualization/files_genomic_sample/lists_of_hubs.csv')\n",
    "hubs = hubs[['Nome_UF', 'co_ibge', 'Nome_Município', 'hub_ind_proxi',\n",
    "       'hub_ind_intermed', 'hub_inter']]\n",
    "\n",
    "# Read the Adjacent matrix\n",
    "link0 = '/opt/storage/raw/aesop/visualization/files_genomic_sample/adjacency_matrix_correct.parquet'\n",
    "\n",
    "matrix = pd.read_parquet(link0, engine='pyarrow')\n",
    "\n",
    "\n",
    "viz_muni = pd.read_csv('/opt/storage/raw/aesop/visualization/municipios_limitrofes_ibge.csv')\n",
    "viz_muni_count = pd.read_csv('/opt/storage/raw/aesop/visualization/count_municipios_vizinhos.csv')\n"
   ]
  },
  {
   "cell_type": "code",
   "execution_count": 98,
   "id": "62dc24c4-e2ea-436e-ab79-21739732a0b1",
   "metadata": {},
   "outputs": [],
   "source": [
    "dta = dta[[ 'value_cum', 'value', 'ori_muni_name',\n",
    "       'ori_uf_name', 'ori_co_ibge', 'des_muni_name', 'des_uf_name',\n",
    "       'des_co_ibge', 'path_correct', 'path_len', 'muni_1', 'muni_2', 'muni_3',\n",
    "       'ones']]"
   ]
  },
  {
   "cell_type": "code",
   "execution_count": 99,
   "id": "2e271974-7590-454c-901e-9e4d205e0ef1",
   "metadata": {},
   "outputs": [
    {
     "name": "stdout",
     "output_type": "stream",
     "text": [
      "inicdiano:  /opt/storage/refined/aesop/visualization/aesop_2025_07_17_mun_new.parquet\n"
     ]
    }
   ],
   "source": [
    "mun_new = list(Path('/opt/storage/refined/aesop/visualization/')\n",
    "               .glob('aesop_*_mun_new.parquet'))\n",
    "\n",
    "aesop_mun_new = max(mun_new, key=lambda x: x.stat().st_ctime)\n",
    "\n",
    "df = pd.read_parquet(aesop_mun_new)\n",
    "\n",
    "print('inicdiano: ', aesop_mun_new)\n",
    "\n",
    "link_muni_vertice = pd.DataFrame(matrix.columns, columns=['muni'])\n",
    "\n",
    "df_np = matrix.to_numpy()"
   ]
  },
  {
   "cell_type": "code",
   "execution_count": 100,
   "id": "9178ce62-1a15-4b46-b248-d8b8020989e1",
   "metadata": {},
   "outputs": [],
   "source": [
    "def get_mname(n):\n",
    "    \n",
    "    m = link_muni_vertice.iloc[n]['muni']\n",
    "    set_muni = muni[muni['Código Município Completo'] == m].reset_index()\n",
    "    return [set_muni.iloc[0]['Nome_Município'],set_muni.iloc[0]['Nome_UF'],m]\n",
    "   \n",
    "def get_mnumber(name):\n",
    "    muni[muni['Nome_Município'] == name]\n",
    "    \n",
    "    co_mu = muni[muni['Nome_Município'] == name].reset_index()['Código Município Completo'][0]\n",
    "    muni_number = link_muni_vertice[link_muni_vertice['muni'] == co_mu]['muni'].index.tolist()[0]\n",
    "    return [muni_number, co_mu]\n",
    "\n",
    "def col_name(dtf,col):\n",
    "    lst = []\n",
    "    for value in col:\n",
    "        muni_name = get_mname(value)[0]\n",
    "        uf_muni = get_mname(value)[1]\n",
    "        cod_ibge_muni = get_mname(value)[2]\n",
    "    \n",
    "        lst.append([muni_name,uf_muni,cod_ibge_muni])\n",
    "    \n",
    "    dta = pd.DataFrame(lst, columns=['muni_name','uf_muni','cod_ibge_muni'])\n",
    "    \n",
    "    dtf = dtf.assign(muni_name = dta.muni_name)\n",
    "    dtf = dtf.assign(uf_muni = dta.uf_muni)\n",
    "    dtf = dtf.assign(cod_ibge_muni = dta.cod_ibge_muni)\n",
    "    \n",
    "    return dtf\n"
   ]
  },
  {
   "cell_type": "markdown",
   "id": "33d4e014-5eb4-4964-ae75-7901ee960977",
   "metadata": {},
   "source": [
    "# Identify cities that issued a warning two weeks ago"
   ]
  },
  {
   "cell_type": "code",
   "execution_count": 101,
   "id": "e7bba3c3-ec88-4948-bc3b-655d62cb2014",
   "metadata": {},
   "outputs": [],
   "source": [
    "muni_with_warning = df[\n",
    "        (df.epidemi_cal_start== (df.epidemi_cal_start - pd.Timedelta(weeks=2)).max()) &\n",
    "        (df.sinal_aesop_ivas == 1)\n",
    "    ][['co_uf','nm_uf','co_ibge', 'co_ibge7','nm_municipio', 'epiyear', 'epiweek', 'epidemi_cal_start','sinal_aesop_ivas']]"
   ]
  },
  {
   "cell_type": "code",
   "execution_count": 102,
   "id": "c8251ac8-ef1e-4446-b8d2-7d5de7c807ff",
   "metadata": {},
   "outputs": [],
   "source": [
    "lst = []\n",
    "\n",
    "for value in muni_with_warning.co_ibge7.astype(int).to_list():\n",
    "        \n",
    "        set_muni = dta[dta.ori_co_ibge == value]\n",
    "        \n",
    "        lst.append(set_muni)\n",
    "\n",
    "dta_cover1 = pd.concat(lst)"
   ]
  },
  {
   "cell_type": "code",
   "execution_count": 105,
   "id": "87a633de-044e-4f9d-baaa-d58c222e3f64",
   "metadata": {},
   "outputs": [],
   "source": [
    "# Get the mobility coverage from the cities issuing a warning\n",
    "\n",
    "ori_des_muni_warning = dta_cover1.groupby(['ori_muni_name','ori_uf_name','ori_co_ibge','muni_1']\n",
    "                                          )['ones'].sum().reset_index()\n",
    "\n",
    "ori_des_muni_warning = col_name(ori_des_muni_warning, ori_des_muni_warning.muni_1)\n",
    "\n",
    "ori_des_muni_warning = ori_des_muni_warning.assign(\n",
    "                       per=ori_des_muni_warning.ones*100/sum(ori_des_muni_warning.ones)\n",
    "                       )"
   ]
  },
  {
   "cell_type": "code",
   "execution_count": 106,
   "id": "fa01b5f6-ae37-4cc2-ad2c-518d4de29e32",
   "metadata": {},
   "outputs": [
    {
     "data": {
      "text/html": [
       "<div>\n",
       "<style scoped>\n",
       "    .dataframe tbody tr th:only-of-type {\n",
       "        vertical-align: middle;\n",
       "    }\n",
       "\n",
       "    .dataframe tbody tr th {\n",
       "        vertical-align: top;\n",
       "    }\n",
       "\n",
       "    .dataframe thead th {\n",
       "        text-align: right;\n",
       "    }\n",
       "</style>\n",
       "<table border=\"1\" class=\"dataframe\">\n",
       "  <thead>\n",
       "    <tr style=\"text-align: right;\">\n",
       "      <th></th>\n",
       "      <th>ori_muni_name</th>\n",
       "      <th>ori_uf_name</th>\n",
       "      <th>ori_co_ibge</th>\n",
       "      <th>muni_1</th>\n",
       "      <th>ones</th>\n",
       "      <th>muni_name</th>\n",
       "      <th>uf_muni</th>\n",
       "      <th>cod_ibge_muni</th>\n",
       "      <th>per</th>\n",
       "    </tr>\n",
       "  </thead>\n",
       "  <tbody>\n",
       "    <tr>\n",
       "      <th>0</th>\n",
       "      <td>Abdon Batista</td>\n",
       "      <td>Santa Catarina</td>\n",
       "      <td>4200051</td>\n",
       "      <td>4323</td>\n",
       "      <td>36</td>\n",
       "      <td>Anita Garibaldi</td>\n",
       "      <td>Santa Catarina</td>\n",
       "      <td>4201000</td>\n",
       "      <td>0.008040</td>\n",
       "    </tr>\n",
       "    <tr>\n",
       "      <th>1</th>\n",
       "      <td>Abdon Batista</td>\n",
       "      <td>Santa Catarina</td>\n",
       "      <td>4200051</td>\n",
       "      <td>4363</td>\n",
       "      <td>1</td>\n",
       "      <td>Capão Alto</td>\n",
       "      <td>Santa Catarina</td>\n",
       "      <td>4203253</td>\n",
       "      <td>0.000223</td>\n",
       "    </tr>\n",
       "    <tr>\n",
       "      <th>2</th>\n",
       "      <td>Abdon Batista</td>\n",
       "      <td>Santa Catarina</td>\n",
       "      <td>4200051</td>\n",
       "      <td>4367</td>\n",
       "      <td>657</td>\n",
       "      <td>Campos Novos</td>\n",
       "      <td>Santa Catarina</td>\n",
       "      <td>4203600</td>\n",
       "      <td>0.146729</td>\n",
       "    </tr>\n",
       "    <tr>\n",
       "      <th>3</th>\n",
       "      <td>Abdon Batista</td>\n",
       "      <td>Santa Catarina</td>\n",
       "      <td>4200051</td>\n",
       "      <td>4451</td>\n",
       "      <td>818</td>\n",
       "      <td>Lages</td>\n",
       "      <td>Santa Catarina</td>\n",
       "      <td>4209300</td>\n",
       "      <td>0.182686</td>\n",
       "    </tr>\n",
       "    <tr>\n",
       "      <th>4</th>\n",
       "      <td>Abre Campo</td>\n",
       "      <td>Minas Gerais</td>\n",
       "      <td>3100302</td>\n",
       "      <td>2309</td>\n",
       "      <td>1278</td>\n",
       "      <td>Belo Horizonte</td>\n",
       "      <td>Minas Gerais</td>\n",
       "      <td>3106200</td>\n",
       "      <td>0.285419</td>\n",
       "    </tr>\n",
       "    <tr>\n",
       "      <th>...</th>\n",
       "      <td>...</td>\n",
       "      <td>...</td>\n",
       "      <td>...</td>\n",
       "      <td>...</td>\n",
       "      <td>...</td>\n",
       "      <td>...</td>\n",
       "      <td>...</td>\n",
       "      <td>...</td>\n",
       "      <td>...</td>\n",
       "    </tr>\n",
       "    <tr>\n",
       "      <th>2009</th>\n",
       "      <td>Zabelê</td>\n",
       "      <td>Paraíba</td>\n",
       "      <td>2517407</td>\n",
       "      <td>1272</td>\n",
       "      <td>498</td>\n",
       "      <td>Boa Vista</td>\n",
       "      <td>Paraíba</td>\n",
       "      <td>2502151</td>\n",
       "      <td>0.111220</td>\n",
       "    </tr>\n",
       "    <tr>\n",
       "      <th>2010</th>\n",
       "      <td>Zabelê</td>\n",
       "      <td>Paraíba</td>\n",
       "      <td>2517407</td>\n",
       "      <td>1293</td>\n",
       "      <td>782</td>\n",
       "      <td>Campina Grande</td>\n",
       "      <td>Paraíba</td>\n",
       "      <td>2504009</td>\n",
       "      <td>0.174646</td>\n",
       "    </tr>\n",
       "    <tr>\n",
       "      <th>2011</th>\n",
       "      <td>Zabelê</td>\n",
       "      <td>Paraíba</td>\n",
       "      <td>2517407</td>\n",
       "      <td>1365</td>\n",
       "      <td>279</td>\n",
       "      <td>Monteiro</td>\n",
       "      <td>Paraíba</td>\n",
       "      <td>2509701</td>\n",
       "      <td>0.062310</td>\n",
       "    </tr>\n",
       "    <tr>\n",
       "      <th>2012</th>\n",
       "      <td>Zabelê</td>\n",
       "      <td>Paraíba</td>\n",
       "      <td>2517407</td>\n",
       "      <td>1442</td>\n",
       "      <td>33</td>\n",
       "      <td>Serra Branca</td>\n",
       "      <td>Paraíba</td>\n",
       "      <td>2515500</td>\n",
       "      <td>0.007370</td>\n",
       "    </tr>\n",
       "    <tr>\n",
       "      <th>2013</th>\n",
       "      <td>Zabelê</td>\n",
       "      <td>Paraíba</td>\n",
       "      <td>2517407</td>\n",
       "      <td>1453</td>\n",
       "      <td>29</td>\n",
       "      <td>Sumé</td>\n",
       "      <td>Paraíba</td>\n",
       "      <td>2516300</td>\n",
       "      <td>0.006477</td>\n",
       "    </tr>\n",
       "  </tbody>\n",
       "</table>\n",
       "<p>2014 rows × 9 columns</p>\n",
       "</div>"
      ],
      "text/plain": [
       "      ori_muni_name     ori_uf_name  ori_co_ibge  muni_1  ones  \\\n",
       "0     Abdon Batista  Santa Catarina      4200051    4323    36   \n",
       "1     Abdon Batista  Santa Catarina      4200051    4363     1   \n",
       "2     Abdon Batista  Santa Catarina      4200051    4367   657   \n",
       "3     Abdon Batista  Santa Catarina      4200051    4451   818   \n",
       "4        Abre Campo    Minas Gerais      3100302    2309  1278   \n",
       "...             ...             ...          ...     ...   ...   \n",
       "2009         Zabelê         Paraíba      2517407    1272   498   \n",
       "2010         Zabelê         Paraíba      2517407    1293   782   \n",
       "2011         Zabelê         Paraíba      2517407    1365   279   \n",
       "2012         Zabelê         Paraíba      2517407    1442    33   \n",
       "2013         Zabelê         Paraíba      2517407    1453    29   \n",
       "\n",
       "            muni_name         uf_muni  cod_ibge_muni       per  \n",
       "0     Anita Garibaldi  Santa Catarina        4201000  0.008040  \n",
       "1          Capão Alto  Santa Catarina        4203253  0.000223  \n",
       "2        Campos Novos  Santa Catarina        4203600  0.146729  \n",
       "3               Lages  Santa Catarina        4209300  0.182686  \n",
       "4      Belo Horizonte    Minas Gerais        3106200  0.285419  \n",
       "...               ...             ...            ...       ...  \n",
       "2009        Boa Vista         Paraíba        2502151  0.111220  \n",
       "2010   Campina Grande         Paraíba        2504009  0.174646  \n",
       "2011         Monteiro         Paraíba        2509701  0.062310  \n",
       "2012     Serra Branca         Paraíba        2515500  0.007370  \n",
       "2013             Sumé         Paraíba        2516300  0.006477  \n",
       "\n",
       "[2014 rows x 9 columns]"
      ]
     },
     "execution_count": 106,
     "metadata": {},
     "output_type": "execute_result"
    }
   ],
   "source": [
    "ori_des_muni_warning"
   ]
  },
  {
   "cell_type": "code",
   "execution_count": 77,
   "id": "d035d268-e7e4-4e5e-8cbf-836881cc10a9",
   "metadata": {},
   "outputs": [
    {
     "data": {
      "text/plain": [
       "cod_ibge_muni\n",
       "1100023    0.380058\n",
       "1100049    0.005073\n",
       "1100080    0.010992\n",
       "1100114    0.014585\n",
       "1100122    0.127250\n",
       "             ...   \n",
       "5221403    0.101250\n",
       "5221601    0.000211\n",
       "5221858    0.000423\n",
       "5222005    0.002748\n",
       "5300108    0.480674\n",
       "Name: per, Length: 1140, dtype: float64"
      ]
     },
     "execution_count": 77,
     "metadata": {},
     "output_type": "execute_result"
    }
   ],
   "source": [
    "teste.groupby(['cod_ibge_muni'])['per'].sum()"
   ]
  },
  {
   "cell_type": "code",
   "execution_count": 78,
   "id": "9596063e-80ec-47c0-b053-90f991100359",
   "metadata": {},
   "outputs": [
    {
     "data": {
      "text/plain": [
       "99.99999999999986"
      ]
     },
     "execution_count": 78,
     "metadata": {},
     "output_type": "execute_result"
    }
   ],
   "source": [
    "teste.per.sum()"
   ]
  },
  {
   "cell_type": "code",
   "execution_count": 79,
   "id": "072d17d2-faf0-4664-997f-7b78b7c6e1de",
   "metadata": {},
   "outputs": [
    {
     "data": {
      "text/plain": [
       "1140"
      ]
     },
     "execution_count": 79,
     "metadata": {},
     "output_type": "execute_result"
    }
   ],
   "source": [
    "teste.cod_ibge_muni.nunique()"
   ]
  },
  {
   "cell_type": "markdown",
   "id": "7aaf9a11-005c-4db8-90fd-39cb87f7576c",
   "metadata": {},
   "source": [
    "# Select variables from mun_new that are indicatores to increase the risk of warning in a municipality"
   ]
  },
  {
   "cell_type": "code",
   "execution_count": null,
   "id": "92a009b5-7b33-4f9b-a73d-dbd8b1a3ee63",
   "metadata": {},
   "outputs": [],
   "source": [
    "lst = ['co_uf',\n",
    "       'nm_uf',\n",
    "       'sigla_uf',\n",
    "       'co_ibge',\n",
    "       'co_ibge7',\n",
    "       'nm_municipio',\n",
    "       'epiyear',\n",
    "       'epiweek',\n",
    "       'year_week',\n",
    "       'epidemi_cal_start',\n",
    "       'epidemi_cal_end',\n",
    "       'year_week_ts',\n",
    "       'sinal_aesop_ivas',\n",
    "       'sinal_otc_ivas',\n",
    "       'sinal_ens_ivas',\n",
    "       'perc_missing',\n",
    "       'perc_completude',\n",
    "       'diff_2w',\n",
    "       'diff_3w',\n",
    "       'sum_miss',\n",
    "       'completude',\n",
    "       'tempestividade',\n",
    "       'dqi',\n",
    "       'prob_gro_trend_ivas',\n",
    "       'alerta_vizinho',\n",
    "       'sinais_vizinhos'\n",
    "       ]\n",
    "\n",
    "data = df[lst]"
   ]
  },
  {
   "cell_type": "markdown",
   "id": "1fb3e124-f365-4b59-8161-744a1d5a8c58",
   "metadata": {},
   "source": [
    "# Add IBP variable"
   ]
  },
  {
   "cell_type": "code",
   "execution_count": null,
   "id": "f2b41533-3f6e-4b30-bf29-fb1f4c4ed496",
   "metadata": {},
   "outputs": [],
   "source": []
  }
 ],
 "metadata": {
  "kernelspec": {
   "display_name": "Python 3 (ipykernel)",
   "language": "python",
   "name": "python3"
  },
  "language_info": {
   "codemirror_mode": {
    "name": "ipython",
    "version": 3
   },
   "file_extension": ".py",
   "mimetype": "text/x-python",
   "name": "python",
   "nbconvert_exporter": "python",
   "pygments_lexer": "ipython3",
   "version": "3.10.10"
  }
 },
 "nbformat": 4,
 "nbformat_minor": 5
}
